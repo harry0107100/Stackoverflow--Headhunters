{
 "cells": [
  {
   "cell_type": "markdown",
   "metadata": {},
   "source": [
    "# Library Import"
   ]
  },
  {
   "cell_type": "code",
   "execution_count": 159,
   "metadata": {},
   "outputs": [],
   "source": [
    "import pandas as pd\n",
    "import numpy as np\n",
    "import warnings\n",
    "import xgboost as xgb\n",
    "warnings.filterwarnings(\"ignore\")\n",
    "\n",
    "from xgboost.sklearn import XGBClassifier\n",
    "from matplotlib.pylab import rcParams\n",
    "from sklearn import  metrics\n",
    "from sklearn.model_selection import cross_val_score\n",
    "from sklearn.metrics import confusion_matrix\n",
    "from sklearn.model_selection import train_test_split\n",
    "from sklearn.linear_model import LogisticRegression\n",
    "from sklearn.linear_model import LogisticRegressionCV\n",
    "\n",
    "from sklearn import tree\n",
    "from sklearn.tree import DecisionTreeClassifier\n",
    "from sklearn.ensemble import RandomForestClassifier\n",
    "from sklearn.model_selection import GridSearchCV\n",
    "\n",
    "\n",
    "import matplotlib.pyplot as plt\n",
    "import seaborn as sns"
   ]
  },
  {
   "cell_type": "markdown",
   "metadata": {},
   "source": [
    "# Data Preprocessing and Feature Engineering"
   ]
  },
  {
   "cell_type": "markdown",
   "metadata": {},
   "source": [
    "#### - 1. Read file"
   ]
  },
  {
   "cell_type": "code",
   "execution_count": null,
   "metadata": {},
   "outputs": [],
   "source": [
    "df = pd.read_csv('developer_survey_2018/survey_results_public.csv')"
   ]
  },
  {
   "cell_type": "code",
   "execution_count": 160,
   "metadata": {},
   "outputs": [],
   "source": [
    "#df = pd.read_csv('selected_columns.csv', index_col = 0)"
   ]
  },
  {
   "cell_type": "markdown",
   "metadata": {},
   "source": [
    "#### - 2.Feature Selection and feature engineering (Merge some classes based on domain knowledge and descriptive statistics)"
   ]
  },
  {
   "cell_type": "code",
   "execution_count": null,
   "metadata": {},
   "outputs": [],
   "source": [
    "columns_keep = ['Country', 'Student', 'Employment', 'FormalEducation', 'UndergradMajor', 'CompanySize',\n",
    "               'DevType','YearsCoding','JobSatisfaction','JobSearchStatus','LastNewJob',\n",
    "                'LanguageWorkedWith', 'LanguageDesireNextYear', 'DatabaseWorkedWith','PlatformWorkedWith',\n",
    "                'PlatformDesireNextYear','IDE','OperatingSystem',\n",
    "                'HoursComputer','HoursOutside','SkipMeals','Exercise','Gender','EducationParents','Age','Dependents']\n",
    "\n",
    "df = df[columns_keep]"
   ]
  },
  {
   "cell_type": "code",
   "execution_count": 161,
   "metadata": {},
   "outputs": [],
   "source": [
    "def regroup_country(x):\n",
    "    if x != 'United States' and x != 'India' and pd.isnull(x) == False:\n",
    "        x = 'Others_Country'\n",
    "    return x\n",
    "    \n",
    "def regroup_education(x):\n",
    "    if x != 'Bachelor’s degree (BA, BS, B.Eng., etc.)' and x != 'Master’s degree (MA, MS, M.Eng., MBA, etc.)' and x!= 'Other doctoral degree (Ph.D, Ed.D., etc.)' and pd.isnull(x) == False:\n",
    "        x = 'Below Bachelor'\n",
    "    try:\n",
    "        x = x.replace('Bachelor’s degree (BA, BS, B.Eng., etc.)',\"Bachelor\")\n",
    "        x = x.replace('Master’s degree (MA, MS, M.Eng., MBA, etc.)',\"Master\")\n",
    "        x = x.replace('Other doctoral degree (Ph.D, Ed.D., etc.)',\"PhD.\")\n",
    "    except:\n",
    "        pass\n",
    "\n",
    "    return x\n",
    "    \n",
    "def regroup_years_coding(x):\n",
    "    try:\n",
    "        x = x.replace('12-14 years',\"12-17 years\")\n",
    "        x = x.replace('15-17 years',\"12-17 years\")\n",
    "        x = x.replace('18-20 years',\"18+ years\")\n",
    "        x = x.replace('21-23 years',\"18+ years\")\n",
    "        x = x.replace('24-26 years',\"18+ years\")\n",
    "        x = x.replace('27-29 years',\"18+ years\")\n",
    "        x = x.replace('30 or more years',\"18+ years\")\n",
    "    except:\n",
    "        pass\n",
    "\n",
    "    return x\n",
    "\n",
    "def job_satisfaction_level(x):\n",
    "    try:\n",
    "        x = x.replace('Extremely dissatisfied','-3')\n",
    "        x = x.replace('Moderately dissatisfied','-2')\n",
    "        x = x.replace('Slightly dissatisfied','-1')\n",
    "        x = x.replace('Neither satisfied nor dissatisfied','0')\n",
    "        x = x.replace('Slightly satisfied','1')\n",
    "        x = x.replace('Moderately satisfied','2')\n",
    "        x = x.replace('Extremely satisfied','3')\n",
    "        x = int(x)\n",
    "    except:\n",
    "        pass\n",
    "\n",
    "    return x\n",
    "\n",
    "def regroup_gender(x):\n",
    "    if x != 'Male' and x != 'Female' and pd.isnull(x) == False:\n",
    "        x = 'Other_Genders'\n",
    "    return x\n",
    "\n",
    "def regroup_age(x):\n",
    "    try:\n",
    "        x = x.replace('45 - 54 years old',\"45 years or older\")\n",
    "        x = x.replace('55 - 64 years old',\"45 years or older\")\n",
    "        x = x.replace('65 years or older',\"45 years or older\")\n",
    "    except:\n",
    "        pass\n",
    "\n",
    "    return x\n",
    "def regroup_undergrad_mojor(x):\n",
    "    group1 = 'Computer_Background'\n",
    "    group2 = 'Ohter_Engineering_Background'\n",
    "    group3 = 'Non-Engineering/CS'\n",
    "    group4 = 'Business'\n",
    "    \n",
    "    try:\n",
    "        x = x.replace('A business discipline (ex. accounting, finance, marketing)',group4)\n",
    "        x = x.replace('A health science (ex. nursing, pharmacy, radiology)',group3)\n",
    "        x = x.replace('A humanities discipline (ex. literature, history, philosophy)',group3)\n",
    "        x = x.replace('A social science (ex. anthropology, psychology, political science)',group3)\n",
    "        x = x.replace('A natural science (ex. biology, chemistry, physics)',group2)\n",
    "        x = x.replace('Another engineering discipline (ex. civil, electrical, mechanical)',group2)\n",
    "        x = x.replace('Computer science, computer engineering, or software engineering',group1)\n",
    "        x = x.replace('Fine arts or performing arts (ex. graphic design, music, studio art)',group3)\n",
    "        x = x.replace('I never declared a major',group3)\n",
    "        x = x.replace('Information systems, information technology, or system administration',group1)\n",
    "        x = x.replace('Mathematics or statistics',group2)\n",
    "        x = x.replace('Web development or web design',group1)\n",
    "    except:\n",
    "        pass\n",
    "    \n",
    "    return x\n",
    "\n",
    "df['UndergradMajor'] = df['UndergradMajor'].apply(regroup_undergrad_mojor)\n",
    "\n",
    "\n",
    "df['Country'] = df['Country'].apply(regroup_country)\n",
    "df['FormalEducation'] = df['FormalEducation'].apply(regroup_education)\n",
    "df['YearsCoding'] = df['YearsCoding'].apply(regroup_years_coding)\n",
    "df['JobSatisfaction'] = df['JobSatisfaction'].apply(job_satisfaction_level)\n",
    "df['Gender'] = df['Gender'].apply(regroup_gender)\n",
    "df['EducationParents'] = df['EducationParents'].apply(regroup_education)\n",
    "df['Age'] = df['Age'].apply(regroup_age)\n",
    "df['Employment']=df['Employment'].apply(lambda x:'Not Employed' \n",
    "                          if x in ['Not employed, but looking for work','Not employed, and not looking for work','Retired'\n",
    "                                  ] else x)\n",
    "df['Employment']=df['Employment'].apply(lambda x:'Self Employed' \n",
    "                          if x=='Independent contractor, freelancer, or self-employed' else x)\n",
    "df=df[df['Gender']!='Other_Genders']"
   ]
  },
  {
   "cell_type": "markdown",
   "metadata": {},
   "source": [
    "#### - 3. Deal with missing data"
   ]
  },
  {
   "cell_type": "markdown",
   "metadata": {},
   "source": [
    "- For rows with missing value in dependent variable 'JobSearchStatus', delete it"
   ]
  },
  {
   "cell_type": "code",
   "execution_count": 162,
   "metadata": {},
   "outputs": [],
   "source": [
    "df=df.dropna(subset=['JobSearchStatus'])"
   ]
  },
  {
   "cell_type": "markdown",
   "metadata": {},
   "source": [
    "- Fill all categorical missing value with mode(most common value), and numerical value with mean"
   ]
  },
  {
   "cell_type": "code",
   "execution_count": 163,
   "metadata": {},
   "outputs": [],
   "source": [
    "NAtoMostcommon = [\"CompanySize\",\"YearsCoding\",\"HoursComputer\",\"HoursOutside\",\"SkipMeals\",\"Exercise\",\"LastNewJob\",'FormalEducation']\n",
    "for col in NAtoMostcommon:\n",
    "    df[col] = df[col].fillna(df[col].value_counts().index[0])\n",
    "\n",
    "df[\"JobSatisfaction\"] = df[\"JobSatisfaction\"].fillna(0)\n",
    "df[\"UndergradMajor\"] = df[\"UndergradMajor\"].fillna('Non-Engineering/CS/Business')\n",
    "\n",
    "df=df.dropna(subset=['EducationParents','Dependents','Gender','Age','Student','Employment'])"
   ]
  },
  {
   "cell_type": "markdown",
   "metadata": {},
   "source": [
    "- For columns with plenty of missing value, delete columns"
   ]
  },
  {
   "cell_type": "code",
   "execution_count": 164,
   "metadata": {},
   "outputs": [],
   "source": [
    "features = list(df.columns)\n",
    "features.remove('PlatformDesireNextYear')\n",
    "features.remove('LanguageDesireNextYear')\n",
    "df=df[features]"
   ]
  },
  {
   "cell_type": "code",
   "execution_count": 165,
   "metadata": {},
   "outputs": [
    {
     "data": {
      "text/html": [
       "<div>\n",
       "<style scoped>\n",
       "    .dataframe tbody tr th:only-of-type {\n",
       "        vertical-align: middle;\n",
       "    }\n",
       "\n",
       "    .dataframe tbody tr th {\n",
       "        vertical-align: top;\n",
       "    }\n",
       "\n",
       "    .dataframe thead th {\n",
       "        text-align: right;\n",
       "    }\n",
       "</style>\n",
       "<table border=\"1\" class=\"dataframe\">\n",
       "  <thead>\n",
       "    <tr style=\"text-align: right;\">\n",
       "      <th></th>\n",
       "      <th>Total</th>\n",
       "      <th>Percent</th>\n",
       "    </tr>\n",
       "  </thead>\n",
       "  <tbody>\n",
       "    <tr>\n",
       "      <th>DatabaseWorkedWith</th>\n",
       "      <td>7709</td>\n",
       "      <td>0.139142</td>\n",
       "    </tr>\n",
       "    <tr>\n",
       "      <th>PlatformWorkedWith</th>\n",
       "      <td>7426</td>\n",
       "      <td>0.134034</td>\n",
       "    </tr>\n",
       "    <tr>\n",
       "      <th>IDE</th>\n",
       "      <td>673</td>\n",
       "      <td>0.012147</td>\n",
       "    </tr>\n",
       "    <tr>\n",
       "      <th>DevType</th>\n",
       "      <td>401</td>\n",
       "      <td>0.007238</td>\n",
       "    </tr>\n",
       "    <tr>\n",
       "      <th>LanguageWorkedWith</th>\n",
       "      <td>270</td>\n",
       "      <td>0.004873</td>\n",
       "    </tr>\n",
       "    <tr>\n",
       "      <th>OperatingSystem</th>\n",
       "      <td>255</td>\n",
       "      <td>0.004603</td>\n",
       "    </tr>\n",
       "  </tbody>\n",
       "</table>\n",
       "</div>"
      ],
      "text/plain": [
       "                    Total   Percent\n",
       "DatabaseWorkedWith   7709  0.139142\n",
       "PlatformWorkedWith   7426  0.134034\n",
       "IDE                   673  0.012147\n",
       "DevType               401  0.007238\n",
       "LanguageWorkedWith    270  0.004873\n",
       "OperatingSystem       255  0.004603"
      ]
     },
     "execution_count": 165,
     "metadata": {},
     "output_type": "execute_result"
    }
   ],
   "source": [
    "total = df.isnull().sum().sort_values(ascending=False)\n",
    "percent = (df.isnull().sum()/df.isnull().count()).sort_values(ascending=False)\n",
    "missing = pd.concat([total, percent], axis=1, keys=['Total', 'Percent'])\n",
    "missing[missing['Total']>0]"
   ]
  },
  {
   "cell_type": "markdown",
   "metadata": {},
   "source": [
    "#### - 4. Create dummy variables and drop first one to eliminate multicolinearity"
   ]
  },
  {
   "cell_type": "code",
   "execution_count": 166,
   "metadata": {},
   "outputs": [],
   "source": [
    "dummy_columns=['DevType','LanguageWorkedWith','DatabaseWorkedWith','PlatformWorkedWith','IDE','OperatingSystem']\n",
    "for x in dummy_columns:\n",
    "    df1=df[x].str.get_dummies(sep=';')\n",
    "    df=pd.concat([df,df1], axis=1)\n",
    "    \n",
    "df = df.drop(dummy_columns,axis=1)"
   ]
  },
  {
   "cell_type": "code",
   "execution_count": 167,
   "metadata": {},
   "outputs": [],
   "source": [
    "categorical_col = ['Country', 'Student', 'Employment', 'FormalEducation', 'UndergradMajor',\n",
    "       'CompanySize', 'YearsCoding', 'LastNewJob', 'HoursComputer',\n",
    "       'HoursOutside', 'SkipMeals', 'Exercise', 'Gender', 'EducationParents',\n",
    "       'Age', 'Dependents']\n",
    "\n",
    "for col in categorical_col:\n",
    "    dummy_df = pd.get_dummies(df[col],drop_first=True)\n",
    "    df = df.join(dummy_df, on= df.index , how='left', rsuffix= '_'+col)\n",
    "    \n",
    "df = df.drop(categorical_col,axis=1)"
   ]
  },
  {
   "cell_type": "code",
   "execution_count": 168,
   "metadata": {},
   "outputs": [
    {
     "data": {
      "text/html": [
       "<div>\n",
       "<style scoped>\n",
       "    .dataframe tbody tr th:only-of-type {\n",
       "        vertical-align: middle;\n",
       "    }\n",
       "\n",
       "    .dataframe tbody tr th {\n",
       "        vertical-align: top;\n",
       "    }\n",
       "\n",
       "    .dataframe thead th {\n",
       "        text-align: right;\n",
       "    }\n",
       "</style>\n",
       "<table border=\"1\" class=\"dataframe\">\n",
       "  <thead>\n",
       "    <tr style=\"text-align: right;\">\n",
       "      <th></th>\n",
       "      <th>Total</th>\n",
       "      <th>Percent</th>\n",
       "    </tr>\n",
       "  </thead>\n",
       "  <tbody>\n",
       "  </tbody>\n",
       "</table>\n",
       "</div>"
      ],
      "text/plain": [
       "Empty DataFrame\n",
       "Columns: [Total, Percent]\n",
       "Index: []"
      ]
     },
     "execution_count": 168,
     "metadata": {},
     "output_type": "execute_result"
    }
   ],
   "source": [
    "total = df.isnull().sum().sort_values(ascending=False)\n",
    "percent = (df.isnull().sum()/df.isnull().count()).sort_values(ascending=False)\n",
    "missing = pd.concat([total, percent], axis=1, keys=['Total', 'Percent'])\n",
    "missing[missing['Total']>0]"
   ]
  },
  {
   "cell_type": "markdown",
   "metadata": {},
   "source": [
    "#### - Transform dependent variable"
   ]
  },
  {
   "cell_type": "markdown",
   "metadata": {},
   "source": [
    "Given 'I’m not actively looking, but I am open to new opportunities' represents neutral opinion, we need strongly opposite attitudes as dependent variable to predict whether this person wants to seek jobs. Thus delete it."
   ]
  },
  {
   "cell_type": "code",
   "execution_count": 169,
   "metadata": {},
   "outputs": [],
   "source": [
    "df=df[df['JobSearchStatus']!='I’m not actively looking, but I am open to new opportunities']\n",
    "df['JobSearchStatus']=df['JobSearchStatus'].apply(lambda x: 0 if x=='I am not interested in new job opportunities' else 1)  "
   ]
  },
  {
   "cell_type": "markdown",
   "metadata": {},
   "source": [
    "# Model I: Logistic Regression with Lasso and Ridge"
   ]
  },
  {
   "cell_type": "code",
   "execution_count": 170,
   "metadata": {},
   "outputs": [],
   "source": [
    "train,test = train_test_split(df,train_size = 0.75,random_state=0)\n",
    "features = list(df.columns)\n",
    "features.remove('JobSearchStatus')\n",
    "x_train = train[features]\n",
    "y_train = train['JobSearchStatus']\n",
    "x_test = test[features]\n",
    "y_test = test['JobSearchStatus']"
   ]
  },
  {
   "cell_type": "code",
   "execution_count": 171,
   "metadata": {},
   "outputs": [
    {
     "data": {
      "text/plain": [
       "LogisticRegressionCV(Cs=10, class_weight=None, cv=10, dual=False,\n",
       "           fit_intercept=True, intercept_scaling=1.0, max_iter=100,\n",
       "           multi_class='warn', n_jobs=None, penalty='l1',\n",
       "           random_state=None, refit=True, scoring='roc_auc',\n",
       "           solver='liblinear', tol=0.0001, verbose=0)"
      ]
     },
     "execution_count": 171,
     "metadata": {},
     "output_type": "execute_result"
    }
   ],
   "source": [
    "loglasso = LogisticRegressionCV(penalty='l1', solver='liblinear', cv=10, scoring = 'roc_auc')\n",
    "loglasso.fit(x_train,y_train)"
   ]
  },
  {
   "cell_type": "code",
   "execution_count": 172,
   "metadata": {},
   "outputs": [
    {
     "name": "stdout",
     "output_type": "stream",
     "text": [
      "AUC on test set: 0.8896\n"
     ]
    },
    {
     "data": {
      "image/png": "[encoded data removed]",
      "text/plain": [
       "<Figure size 1440x864 with 1 Axes>"
      ]
     },
     "metadata": {
      "needs_background": "light"
     },
     "output_type": "display_data"
    }
   ],
   "source": [
    "print('AUC on test set: {:.4f}'.format(loglasso.score(x_test, y_test)))\n",
    "\n",
    "cols_to_fit = list(df)\n",
    "cols_to_fit.remove('JobSearchStatus')\n",
    "coef_df = pd.DataFrame(list(zip(loglasso.coef_[0],cols_to_fit)), columns=['coefficient','Feature'])\n",
    "\n",
    "coef_df = coef_df.set_index('Feature')\n",
    "\n",
    "coef_df = coef_df.sort_values(ascending=True, by = 'coefficient')\n",
    "top_feature = pd.concat([coef_df.head(10), coef_df.tail(10)])\n",
    "\n",
    "plt.figure(figsize=(20, 12))\n",
    "top_feature['coefficient']\n",
    "\n",
    "# sns.barplot(data=top_feature['coefficient'])\n",
    "plt.barh(top_feature.index, top_feature['coefficient'], alpha = 0.5, color = 'b', align = 'center')\n",
    "\n",
    "plt.show()"
   ]
  },
  {
   "cell_type": "code",
   "execution_count": 173,
   "metadata": {},
   "outputs": [
    {
     "data": {
      "text/plain": [
       "[<matplotlib.lines.Line2D at 0x1cf0058f240>]"
      ]
     },
     "execution_count": 173,
     "metadata": {},
     "output_type": "execute_result"
    },
    {
     "data": {
      "image/png": "[encoded data removed]",
      "text/plain": [
       "<Figure size 432x288 with 1 Axes>"
      ]
     },
     "metadata": {
      "needs_background": "light"
     },
     "output_type": "display_data"
    }
   ],
   "source": [
    "lasso_prob = loglasso.predict_proba(x_test)[:,1]\n",
    "fpr, tpr, threshold = metrics.roc_curve(y_test,lasso_prob)\n",
    "plt.plot(fpr,tpr)"
   ]
  },
  {
   "cell_type": "code",
   "execution_count": 174,
   "metadata": {},
   "outputs": [
    {
     "data": {
      "text/plain": [
       "0.83261105092091"
      ]
     },
     "execution_count": 174,
     "metadata": {},
     "output_type": "execute_result"
    }
   ],
   "source": [
    "lasso_train_pred = loglasso.predict(x_train)\n",
    "lass_train_acc = np.mean(lasso_train_pred == y_train)\n",
    "lass_train_acc"
   ]
  },
  {
   "cell_type": "code",
   "execution_count": 175,
   "metadata": {},
   "outputs": [
    {
     "data": {
      "text/plain": [
       "0.8308053448898519"
      ]
     },
     "execution_count": 175,
     "metadata": {},
     "output_type": "execute_result"
    }
   ],
   "source": [
    "lasso_test_pred = loglasso.predict(x_test)\n",
    "lass_test_acc = np.mean(lasso_test_pred == y_test)\n",
    "lass_test_acc"
   ]
  },
  {
   "cell_type": "code",
   "execution_count": 176,
   "metadata": {},
   "outputs": [
    {
     "data": {
      "text/plain": [
       "LogisticRegressionCV(Cs=10, class_weight=None, cv=10, dual=False,\n",
       "           fit_intercept=True, intercept_scaling=1.0, max_iter=100,\n",
       "           multi_class='warn', n_jobs=None, penalty='l2',\n",
       "           random_state=None, refit=True, scoring='roc_auc',\n",
       "           solver='lbfgs', tol=0.0001, verbose=0)"
      ]
     },
     "execution_count": 176,
     "metadata": {},
     "output_type": "execute_result"
    }
   ],
   "source": [
    "logridge = LogisticRegressionCV(penalty='l2', cv=10, scoring = 'roc_auc')\n",
    "logridge.fit(x_train,y_train)"
   ]
  },
  {
   "cell_type": "code",
   "execution_count": 177,
   "metadata": {},
   "outputs": [
    {
     "name": "stdout",
     "output_type": "stream",
     "text": [
      "AUC on test set: 0.89\n"
     ]
    },
    {
     "data": {
      "image/png": "[encoded data removed]",
      "text/plain": [
       "<Figure size 1440x864 with 1 Axes>"
      ]
     },
     "metadata": {
      "needs_background": "light"
     },
     "output_type": "display_data"
    }
   ],
   "source": [
    "coef_df = pd.DataFrame(list(zip(logridge.coef_[0],cols_to_fit)), columns=['coefficient','Feature'])\n",
    "print('AUC on test set: {:.2f}'.format(logridge.score(x_test, y_test)))\n",
    "\n",
    "cols_to_fit = list(df)\n",
    "cols_to_fit.remove('JobSearchStatus')\n",
    "coef_df = pd.DataFrame(list(zip(logridge.coef_[0],cols_to_fit)), columns=['coefficient','Feature'])\n",
    "\n",
    "coef_df = coef_df.set_index('Feature')\n",
    "\n",
    "coef_df = coef_df.sort_values(ascending=True, by = 'coefficient')\n",
    "top_feature = pd.concat([coef_df.head(10), coef_df.tail(10)])\n",
    "\n",
    "plt.figure(figsize=(20, 12))\n",
    "top_feature['coefficient']\n",
    "\n",
    "# sns.barplot(data=top_feature['coefficient'])\n",
    "plt.barh(top_feature.index, top_feature['coefficient'], alpha = 0.5, color = 'b', align = 'center')\n",
    "\n",
    "plt.show()"
   ]
  },
  {
   "cell_type": "code",
   "execution_count": 178,
   "metadata": {},
   "outputs": [
    {
     "data": {
      "text/plain": [
       "[<matplotlib.lines.Line2D at 0x1cf7cdb10f0>]"
      ]
     },
     "execution_count": 178,
     "metadata": {},
     "output_type": "execute_result"
    },
    {
     "data": {
      "image/png": "[encoded data removed]",
      "text/plain": [
       "<Figure size 432x288 with 1 Axes>"
      ]
     },
     "metadata": {
      "needs_background": "light"
     },
     "output_type": "display_data"
    }
   ],
   "source": [
    "ridge_prob = logridge.predict_proba(x_test)[:,1]\n",
    "fpr, tpr, threshold = metrics.roc_curve(y_test,ridge_prob)\n",
    "plt.plot(fpr,tpr)"
   ]
  },
  {
   "cell_type": "code",
   "execution_count": 179,
   "metadata": {},
   "outputs": [
    {
     "data": {
      "text/plain": [
       "0.8327314313229807"
      ]
     },
     "execution_count": 179,
     "metadata": {},
     "output_type": "execute_result"
    }
   ],
   "source": [
    "ridge_train_pred = logridge.predict(x_train)\n",
    "ridge_train_acc = np.mean(ridge_train_pred == y_train)\n",
    "ridge_train_acc"
   ]
  },
  {
   "cell_type": "code",
   "execution_count": 180,
   "metadata": {},
   "outputs": [
    {
     "data": {
      "text/plain": [
       "0.8315276273022751"
      ]
     },
     "execution_count": 180,
     "metadata": {},
     "output_type": "execute_result"
    }
   ],
   "source": [
    "ridge_test_pred = logridge.predict(x_test)\n",
    "ridge_test_acc = np.mean(ridge_test_pred == y_test)\n",
    "ridge_test_acc"
   ]
  },
  {
   "cell_type": "markdown",
   "metadata": {},
   "source": [
    "# Model II: Tree-based Models"
   ]
  },
  {
   "cell_type": "markdown",
   "metadata": {},
   "source": [
    "## 1. Decision Tree"
   ]
  },
  {
   "cell_type": "code",
   "execution_count": 181,
   "metadata": {},
   "outputs": [],
   "source": [
    "evaluation=pd.DataFrame(columns=[\"Model\",\"Train Cross_Validation accuracy\",\n",
    "                                 'Test Accuracy','Train Cross_Validation AUC','Test AUC'])"
   ]
  },
  {
   "cell_type": "markdown",
   "metadata": {},
   "source": [
    " - Try trees with different max_depth and find the optimal max_depth"
   ]
  },
  {
   "cell_type": "code",
   "execution_count": 49,
   "metadata": {},
   "outputs": [
    {
     "data": {
      "image/png": "[encoded data removed]",
      "text/plain": [
       "<Figure size 432x288 with 1 Axes>"
      ]
     },
     "metadata": {
      "needs_background": "light"
     },
     "output_type": "display_data"
    }
   ],
   "source": [
    "import matplotlib.pyplot as plt\n",
    "%matplotlib inline\n",
    "# Try trees with different max_depth and find the optimal max_depth\n",
    "x = []\n",
    "y = []\n",
    "for i in range(1,20):\n",
    "    model_1 = tree.DecisionTreeClassifier(max_depth=i)\n",
    "    model_1.fit(x_train,y_train)\n",
    "    x.append(i)\n",
    "    #y.append(cross_val_score(model_1, x_train,y_train, cv=5).mean())\n",
    "    y.append(cross_val_score(model_1, x_train,y_train, cv=5, scoring='roc_auc').mean())\n",
    "plt.plot(x,y)\n",
    "plt.xlabel('depth')\n",
    "plt.ylabel('AUC')\n",
    "plt.show()"
   ]
  },
  {
   "cell_type": "code",
   "execution_count": 182,
   "metadata": {},
   "outputs": [
    {
     "data": {
      "text/html": [
       "<div>\n",
       "<style scoped>\n",
       "    .dataframe tbody tr th:only-of-type {\n",
       "        vertical-align: middle;\n",
       "    }\n",
       "\n",
       "    .dataframe tbody tr th {\n",
       "        vertical-align: top;\n",
       "    }\n",
       "\n",
       "    .dataframe thead th {\n",
       "        text-align: right;\n",
       "    }\n",
       "</style>\n",
       "<table border=\"1\" class=\"dataframe\">\n",
       "  <thead>\n",
       "    <tr style=\"text-align: right;\">\n",
       "      <th></th>\n",
       "      <th>Model</th>\n",
       "      <th>Train Cross_Validation accuracy</th>\n",
       "      <th>Test Accuracy</th>\n",
       "      <th>Train Cross_Validation AUC</th>\n",
       "      <th>Test AUC</th>\n",
       "    </tr>\n",
       "  </thead>\n",
       "  <tbody>\n",
       "    <tr>\n",
       "      <th>0</th>\n",
       "      <td>Decision Tree</td>\n",
       "      <td>0.810942</td>\n",
       "      <td>0.815818</td>\n",
       "      <td>0.871548</td>\n",
       "      <td>0.869622</td>\n",
       "    </tr>\n",
       "  </tbody>\n",
       "</table>\n",
       "</div>"
      ],
      "text/plain": [
       "           Model  Train Cross_Validation accuracy  Test Accuracy  \\\n",
       "0  Decision Tree                         0.810942       0.815818   \n",
       "\n",
       "   Train Cross_Validation AUC  Test AUC  \n",
       "0                    0.871548  0.869622  "
      ]
     },
     "execution_count": 182,
     "metadata": {},
     "output_type": "execute_result"
    }
   ],
   "source": [
    "# From the above plot,we can see that at the depth with 7, the decision model has the best auc.\n",
    "tree_model = tree.DecisionTreeClassifier(max_depth = 7,criterion='entropy')\n",
    "tree_model.fit(x_train,y_train)\n",
    "\n",
    "tree_cross_accuracy=cross_val_score(tree_model, x_train,y_train, cv=5).mean()\n",
    "tree_test_accuracy=tree_model.score(x_test,y_test)\n",
    "\n",
    "ttest_predprob = tree_model.predict_proba(x_test)[:,1]\n",
    "tree_cross_AUC=cross_val_score(tree_model, x_train,y_train, cv=5,scoring='roc_auc').mean()\n",
    "tree_test_AUC=metrics.roc_auc_score(y_test,ttest_predprob)\n",
    "\n",
    "\n",
    "r = evaluation.shape[0]\n",
    "evaluation.loc[r] = ['Decision Tree',tree_cross_accuracy,tree_test_accuracy,tree_cross_AUC,tree_test_AUC]\n",
    "evaluation\n",
    "#tree_model.score(x_test,y_test)"
   ]
  },
  {
   "cell_type": "markdown",
   "metadata": {},
   "source": [
    "## 2. Random Forest"
   ]
  },
  {
   "cell_type": "markdown",
   "metadata": {},
   "source": [
    "#### - Tune hyperparameters of Random Forest"
   ]
  },
  {
   "cell_type": "code",
   "execution_count": 34,
   "metadata": {},
   "outputs": [
    {
     "data": {
      "text/plain": [
       "(0.8819904022230339,\n",
       " {'max_depth': 14,\n",
       "  'min_samples_leaf': 100,\n",
       "  'min_samples_split': 200,\n",
       "  'n_estimators': 200})"
      ]
     },
     "execution_count": 34,
     "metadata": {},
     "output_type": "execute_result"
    }
   ],
   "source": [
    "parameters = {\n",
    "     'n_estimators':[i for i in range(100,400,100)], # Number of trees\n",
    "     'max_depth':list(range(8,15,2)),\n",
    "     'min_samples_split': list(range(100,601,100)),\n",
    "     'min_samples_leaf': list(range(100,601,100))\n",
    "}\n",
    "model_2 = GridSearchCV(RandomForestClassifier(),parameters,scoring=\"roc_auc\", n_jobs=-1,cv=5,iid=False)\n",
    "model_2.fit(x_train, np.ravel(y_train))\n",
    "model_2.best_score_, model_2.best_params_"
   ]
  },
  {
   "cell_type": "code",
   "execution_count": 35,
   "metadata": {},
   "outputs": [
    {
     "data": {
      "text/plain": [
       "(0.8812628705635879,\n",
       " {'max_depth': 16,\n",
       "  'min_samples_leaf': 100,\n",
       "  'min_samples_split': 200,\n",
       "  'n_estimators': 150})"
      ]
     },
     "execution_count": 35,
     "metadata": {},
     "output_type": "execute_result"
    }
   ],
   "source": [
    "parameters = {\n",
    "     'n_estimators':[i for i in range(150,250,200)], # Number of trees\n",
    "     'max_depth':list(range(12,18,2)),\n",
    "     'min_samples_split': list(range(100,301,100)),\n",
    "     'min_samples_leaf': list(range(100,301,50))\n",
    "}\n",
    "model_2 = GridSearchCV(RandomForestClassifier(),parameters,scoring=\"roc_auc\", n_jobs=-1,cv=5,iid=False)\n",
    "model_2.fit(x_train, np.ravel(y_train))\n",
    "model_2.best_score_, model_2.best_params_"
   ]
  },
  {
   "cell_type": "markdown",
   "metadata": {},
   "source": [
    "#### - Random forest with optimal combination of hyperparameters"
   ]
  },
  {
   "cell_type": "code",
   "execution_count": 183,
   "metadata": {},
   "outputs": [],
   "source": [
    "rf = RandomForestClassifier(max_depth= 14,min_samples_leaf = 100,min_samples_split= 200,n_estimators=150)"
   ]
  },
  {
   "cell_type": "code",
   "execution_count": 184,
   "metadata": {},
   "outputs": [
    {
     "data": {
      "text/html": [
       "<div>\n",
       "<style scoped>\n",
       "    .dataframe tbody tr th:only-of-type {\n",
       "        vertical-align: middle;\n",
       "    }\n",
       "\n",
       "    .dataframe tbody tr th {\n",
       "        vertical-align: top;\n",
       "    }\n",
       "\n",
       "    .dataframe thead th {\n",
       "        text-align: right;\n",
       "    }\n",
       "</style>\n",
       "<table border=\"1\" class=\"dataframe\">\n",
       "  <thead>\n",
       "    <tr style=\"text-align: right;\">\n",
       "      <th></th>\n",
       "      <th>Model</th>\n",
       "      <th>Train Cross_Validation accuracy</th>\n",
       "      <th>Test Accuracy</th>\n",
       "      <th>Train Cross_Validation AUC</th>\n",
       "      <th>Test AUC</th>\n",
       "    </tr>\n",
       "  </thead>\n",
       "  <tbody>\n",
       "    <tr>\n",
       "      <th>0</th>\n",
       "      <td>Decision Tree</td>\n",
       "      <td>0.810942</td>\n",
       "      <td>0.815818</td>\n",
       "      <td>0.871548</td>\n",
       "      <td>0.869622</td>\n",
       "    </tr>\n",
       "    <tr>\n",
       "      <th>1</th>\n",
       "      <td>Random Forest</td>\n",
       "      <td>0.796737</td>\n",
       "      <td>0.806789</td>\n",
       "      <td>0.879895</td>\n",
       "      <td>0.881389</td>\n",
       "    </tr>\n",
       "  </tbody>\n",
       "</table>\n",
       "</div>"
      ],
      "text/plain": [
       "           Model  Train Cross_Validation accuracy  Test Accuracy  \\\n",
       "0  Decision Tree                         0.810942       0.815818   \n",
       "1  Random Forest                         0.796737       0.806789   \n",
       "\n",
       "   Train Cross_Validation AUC  Test AUC  \n",
       "0                    0.871548  0.869622  \n",
       "1                    0.879895  0.881389  "
      ]
     },
     "execution_count": 184,
     "metadata": {},
     "output_type": "execute_result"
    }
   ],
   "source": [
    "rf.fit(x_train,y_train)\n",
    "rf_cross_accuracy=cross_val_score(rf, x_train,y_train, cv=5).mean()\n",
    "rf_test_accuracy=rf.score(x_test,y_test)\n",
    "\n",
    "rftest_predprob = rf.predict_proba(x_test)[:,1]\n",
    "rf_cross_AUC=cross_val_score(rf, x_train,y_train, cv=5,scoring='roc_auc').mean()\n",
    "rf_test_AUC=metrics.roc_auc_score(y_test,rftest_predprob)\n",
    "\n",
    "r = evaluation.shape[0]\n",
    "evaluation.loc[r] = ['Random Forest',rf_cross_accuracy,rf_test_accuracy, rf_cross_AUC, rf_test_AUC ]\n",
    "evaluation"
   ]
  },
  {
   "cell_type": "code",
   "execution_count": 41,
   "metadata": {},
   "outputs": [
    {
     "data": {
      "text/plain": [
       "Text(0.5, 0, 'Relative Importance')"
      ]
     },
     "execution_count": 41,
     "metadata": {},
     "output_type": "execute_result"
    },
    {
     "data": {
      "image/png": "[encoded data removed]",
      "text/plain": [
       "<Figure size 576x576 with 1 Axes>"
      ]
     },
     "metadata": {
      "needs_background": "light"
     },
     "output_type": "display_data"
    }
   ],
   "source": [
    "importances = rf.feature_importances_\n",
    "indices = np.argsort(importances)\n",
    "plt.figure(figsize=(8,8))\n",
    "plt.title('Feature Importances')\n",
    "plt.barh(range(20), importances[indices][-20:], color='b', align='center')\n",
    "plt.yticks(range(20),x_train.columns[-20:])\n",
    "plt.xlabel('Relative Importance')"
   ]
  },
  {
   "cell_type": "markdown",
   "metadata": {},
   "source": [
    "## 3. XGBoost Classifier"
   ]
  },
  {
   "cell_type": "code",
   "execution_count": 80,
   "metadata": {},
   "outputs": [],
   "source": [
    "def modelfit(alg, dtrain, predictors,useTrainCV=True, cv_folds=5, early_stopping_rounds=50):\n",
    "    \n",
    "    if useTrainCV:\n",
    "        xgb_param = alg.get_xgb_params()\n",
    "        xgtrain = xgb.DMatrix(dtrain[predictors].values, label=dtrain['JobSearchStatus'].values)\n",
    "        cvresult = xgb.cv(xgb_param, xgtrain, num_boost_round=alg.get_params()['n_estimators'], nfold=cv_folds,\n",
    "            metrics='auc', early_stopping_rounds=early_stopping_rounds)#, show_progress=False)\n",
    "        alg.set_params(n_estimators=cvresult.shape[0])\n",
    "    \n",
    "    #Fit the algorithm on the data\n",
    "    alg.fit(dtrain[predictors], dtrain['JobSearchStatus'],eval_metric='auc')\n",
    "        \n",
    "    #Predict training set:\n",
    "    dtrain_predictions = alg.predict(dtrain[predictors])\n",
    "    dtrain_predprob = alg.predict_proba(dtrain[predictors])[:,1]\n",
    "        \n",
    "    #Print model report:\n",
    "    print (\"\\nModel Report\")\n",
    "    print (\"Accuracy : %.4g\" % metrics.accuracy_score(dtrain['JobSearchStatus'].values, dtrain_predictions))#np.mean(dtrain_predictions==y_train)\n",
    "    print (\"AUC Score (Train): %f\" % metrics.roc_auc_score(dtrain['JobSearchStatus'], dtrain_predprob))"
   ]
  },
  {
   "cell_type": "markdown",
   "metadata": {},
   "source": [
    "#### - Set the default starting xgboost and start tuning hyperparameters"
   ]
  },
  {
   "cell_type": "code",
   "execution_count": 49,
   "metadata": {},
   "outputs": [
    {
     "name": "stdout",
     "output_type": "stream",
     "text": [
      "\n",
      "Model Report\n",
      "Accuracy : 0.8977\n",
      "AUC Score (Train): 0.960140\n"
     ]
    },
    {
     "data": {
      "text/plain": [
       "0.8977368484410738"
      ]
     },
     "execution_count": 49,
     "metadata": {},
     "output_type": "execute_result"
    }
   ],
   "source": [
    "#Choose all predictors except target & IDcols\n",
    "predictors = features\n",
    "xgb1 = XGBClassifier(\n",
    " learning_rate =0.1,\n",
    " n_estimators=1000,\n",
    " max_depth=5,\n",
    " min_child_weight=1,\n",
    " gamma=0,\n",
    " subsample=0.8,\n",
    " colsample_bytree=0.8,\n",
    " objective= 'binary:logistic',\n",
    " nthread=10,\n",
    " scale_pos_weight=1,\n",
    " seed=27)\n",
    "\n",
    "modelfit(xgb1, train, predictors)"
   ]
  },
  {
   "cell_type": "markdown",
   "metadata": {},
   "source": [
    "#### - Keep learning_rate fixed and tuning tree related hyperparameters"
   ]
  },
  {
   "cell_type": "code",
   "execution_count": 51,
   "metadata": {},
   "outputs": [
    {
     "data": {
      "text/plain": [
       "({'max_depth': 3, 'min_child_weight': 3, 'n_estimators': 400},\n",
       " 0.9083161742336054)"
      ]
     },
     "execution_count": 51,
     "metadata": {},
     "output_type": "execute_result"
    }
   ],
   "source": [
    "param_test1 = {\n",
    " 'max_depth':range(3,10,2),\n",
    " 'min_child_weight':range(1,6,2),\n",
    " 'n_estimators':range(100,600,100) \n",
    "}\n",
    "gsearch1 = GridSearchCV(estimator = XGBClassifier( learning_rate =0.1, gamma=0, subsample=0.8, colsample_bytree=0.8,\n",
    " objective= 'binary:logistic', nthread=8, scale_pos_weight=1, seed=27), \n",
    " param_grid = param_test1, scoring='roc_auc',n_jobs=8,iid=False, cv=5)\n",
    "gsearch1.fit(train[features],train['JobSearchStatus'])\n",
    "gsearch1.best_params_, gsearch1.best_score_\n"
   ]
  },
  {
   "cell_type": "markdown",
   "metadata": {},
   "source": [
    "- Given optimal max_depth is the minimum value of choices, thus expand the range of max_depth"
   ]
  },
  {
   "cell_type": "code",
   "execution_count": 52,
   "metadata": {},
   "outputs": [
    {
     "data": {
      "text/plain": [
       "({'max_depth': 3}, 0.9083161742336054)"
      ]
     },
     "execution_count": 52,
     "metadata": {},
     "output_type": "execute_result"
    }
   ],
   "source": [
    "param_test2 = {\n",
    " 'max_depth':range(1,10,1)\n",
    "}\n",
    "gsearch1 = GridSearchCV(estimator = XGBClassifier( learning_rate =0.1, n_estimators=400, min_child_weight=3, gamma=0, subsample=0.8, colsample_bytree=0.8,\n",
    " objective= 'binary:logistic', nthread=8, scale_pos_weight=1, seed=27), \n",
    " param_grid = param_test2, scoring='roc_auc',n_jobs=8,iid=False, cv=5)\n",
    "gsearch1.fit(train[features],train['JobSearchStatus'])\n",
    "gsearch1.best_params_, gsearch1.best_score_\n"
   ]
  },
  {
   "cell_type": "code",
   "execution_count": 53,
   "metadata": {},
   "outputs": [
    {
     "data": {
      "text/plain": [
       "({'max_depth': 5}, 0.9052009026000706)"
      ]
     },
     "execution_count": 53,
     "metadata": {},
     "output_type": "execute_result"
    }
   ],
   "source": [
    "param_test2 = {\n",
    " 'max_depth':range(5,8,1)\n",
    "}\n",
    "gsearch1 = GridSearchCV(estimator = XGBClassifier( learning_rate =0.1, n_estimators=400, min_child_weight=3, gamma=0, subsample=0.8, colsample_bytree=0.8,\n",
    " objective= 'binary:logistic', nthread=8, scale_pos_weight=1, seed=27), \n",
    " param_grid = param_test2, scoring='roc_auc',n_jobs=8,iid=False, cv=5)\n",
    "gsearch1.fit(train[features],train['JobSearchStatus'])\n",
    "gsearch1.best_params_, gsearch1.best_score_\n"
   ]
  },
  {
   "cell_type": "code",
   "execution_count": 54,
   "metadata": {},
   "outputs": [
    {
     "data": {
      "text/plain": [
       "({'max_depth': 4}, 0.9074378785996092)"
      ]
     },
     "execution_count": 54,
     "metadata": {},
     "output_type": "execute_result"
    }
   ],
   "source": [
    "param_test2 = {\n",
    " 'max_depth':range(4,5,1)\n",
    "}\n",
    "gsearch1 = GridSearchCV(estimator = XGBClassifier( learning_rate =0.1, n_estimators=400, min_child_weight=3, gamma=0, subsample=0.8, colsample_bytree=0.8,\n",
    " objective= 'binary:logistic', nthread=8, scale_pos_weight=1, seed=27), \n",
    " param_grid = param_test2, scoring='roc_auc',n_jobs=8,iid=False, cv=5)\n",
    "gsearch1.fit(train[features],train['JobSearchStatus'])\n",
    "gsearch1.best_params_, gsearch1.best_score_\n"
   ]
  },
  {
   "cell_type": "markdown",
   "metadata": {},
   "source": [
    "Thus optimal tree_related parameters: {'max_depth': 4, 'min_child_weight': 3, 'n_estimators': 400}"
   ]
  },
  {
   "cell_type": "markdown",
   "metadata": {},
   "source": [
    "#### - Tune parameter gamma"
   ]
  },
  {
   "cell_type": "code",
   "execution_count": 57,
   "metadata": {},
   "outputs": [
    {
     "data": {
      "text/plain": [
       "({'gamma': 0.2}, 0.9078719777219861)"
      ]
     },
     "execution_count": 57,
     "metadata": {},
     "output_type": "execute_result"
    }
   ],
   "source": [
    "param_test3 = {\n",
    " 'gamma':[i/10.0 for i in range(0,5)]\n",
    "}\n",
    "gsearch3 = GridSearchCV(estimator = XGBClassifier( learning_rate =0.1, n_estimators=400, max_depth=4,\n",
    " min_child_weight=3, subsample=0.8, colsample_bytree=0.8,\n",
    " objective= 'binary:logistic', nthread=8, scale_pos_weight=1,seed=27), \n",
    " param_grid = param_test3, scoring='roc_auc',n_jobs=8,iid=False, cv=5)\n",
    "gsearch3.fit(train[features],train['JobSearchStatus'])\n",
    "gsearch3.best_params_, gsearch3.best_score_"
   ]
  },
  {
   "cell_type": "code",
   "execution_count": 58,
   "metadata": {},
   "outputs": [],
   "source": [
    "# XGB with optimal parameters up to now\n",
    "predictors = features\n",
    "xgb3 = XGBClassifier(\n",
    " learning_rate =0.1,\n",
    " n_estimators=400,\n",
    " max_depth=4,\n",
    " min_child_weight=3,\n",
    " gamma=0.2,\n",
    " subsample=0.8,\n",
    " colsample_bytree=0.8,\n",
    " objective= 'binary:logistic',\n",
    " nthread=8,\n",
    " scale_pos_weight=1,\n",
    " seed=27)"
   ]
  },
  {
   "cell_type": "markdown",
   "metadata": {},
   "source": [
    "#### - Tune parameter subsample and colsample_bytree"
   ]
  },
  {
   "cell_type": "code",
   "execution_count": 60,
   "metadata": {},
   "outputs": [
    {
     "data": {
      "text/plain": [
       "({'colsample_bytree': 0.7, 'subsample': 0.8}, 0.9080870441303777)"
      ]
     },
     "execution_count": 60,
     "metadata": {},
     "output_type": "execute_result"
    }
   ],
   "source": [
    "param_test4 = {\n",
    " 'subsample':[i/10.0 for i in range(6,10)],\n",
    " 'colsample_bytree':[i/10.0 for i in range(6,10)]\n",
    "}\n",
    "gsearch4 = GridSearchCV(estimator = XGBClassifier( learning_rate =0.1, n_estimators=400, max_depth=4,\n",
    " min_child_weight=3, gamma=0.2, \n",
    " objective= 'binary:logistic', nthread=8, scale_pos_weight=1,seed=27), \n",
    " param_grid = param_test4, scoring='roc_auc', n_jobs=8, iid=False, cv=5)\n",
    "gsearch4.fit(train[features],train['JobSearchStatus'])\n",
    "gsearch4.best_params_, gsearch4.best_score_"
   ]
  },
  {
   "cell_type": "code",
   "execution_count": 61,
   "metadata": {},
   "outputs": [
    {
     "data": {
      "text/plain": [
       "({'colsample_bytree': 0.75, 'subsample': 0.85}, 0.9080932142438598)"
      ]
     },
     "execution_count": 61,
     "metadata": {},
     "output_type": "execute_result"
    }
   ],
   "source": [
    "param_test5 = {\n",
    " 'subsample':[i/100.0 for i in range(75,90,5)],\n",
    " 'colsample_bytree':[i/100.0 for i in range(65,80,5)]\n",
    "}\n",
    "gsearch5 = GridSearchCV(estimator = XGBClassifier( learning_rate =0.1, n_estimators=400, max_depth=4,\n",
    " min_child_weight=3, gamma=0.2, \n",
    " objective= 'binary:logistic', nthread=8, scale_pos_weight=1,seed=27), \n",
    " param_grid = param_test5, scoring='roc_auc', n_jobs=8, iid=False, cv=5)\n",
    "gsearch5.fit(train[features],train['JobSearchStatus'])\n",
    "gsearch5.best_params_, gsearch5.best_score_"
   ]
  },
  {
   "cell_type": "code",
   "execution_count": 62,
   "metadata": {},
   "outputs": [],
   "source": [
    "# XGB with optimal parameters up to now\n",
    "predictors = features\n",
    "xgb5 = XGBClassifier(\n",
    " learning_rate =0.1,\n",
    " n_estimators=400,\n",
    " max_depth=4,\n",
    " min_child_weight=3,\n",
    " gamma=0.2,\n",
    " subsample=0.85,\n",
    " colsample_bytree=0.75,\n",
    " objective= 'binary:logistic',\n",
    " nthread=8,\n",
    " scale_pos_weight=1,\n",
    " seed=27)\n",
    "modelfit(xgb5, train, predictors)"
   ]
  },
  {
   "cell_type": "markdown",
   "metadata": {},
   "source": [
    "#### - Tune parameter reg_alpha"
   ]
  },
  {
   "cell_type": "code",
   "execution_count": 112,
   "metadata": {},
   "outputs": [
    {
     "data": {
      "text/plain": [
       "({'reg_alpha': 1e-05}, 0.9080932923589126)"
      ]
     },
     "execution_count": 112,
     "metadata": {},
     "output_type": "execute_result"
    }
   ],
   "source": [
    "param_test6 = {\n",
    " 'reg_alpha':[1e-5, 1e-2, 0.1, 1, 100]\n",
    "}\n",
    "gsearch6 = GridSearchCV(estimator = XGBClassifier(learning_rate =0.1, n_estimators=400, max_depth=4,\n",
    " min_child_weight=3, gamma=0.2, subsample=0.85, colsample_bytree=0.75,\n",
    " objective= 'binary:logistic', nthread=8, scale_pos_weight=1,seed=27), \n",
    " param_grid = param_test6, scoring='roc_auc',n_jobs=8,iid=False, cv=5)\n",
    "gsearch6.fit(train[features],train['JobSearchStatus'])\n",
    "gsearch6.best_params_, gsearch6.best_score_"
   ]
  },
  {
   "cell_type": "code",
   "execution_count": 113,
   "metadata": {},
   "outputs": [
    {
     "data": {
      "text/plain": [
       "({'reg_alpha': 1e-05}, 0.9080932923589126)"
      ]
     },
     "execution_count": 113,
     "metadata": {},
     "output_type": "execute_result"
    }
   ],
   "source": [
    "param_test6 = {\n",
    " 'reg_alpha':[1e-6, 5e-6, 1e-5, 2e-5, 4e-5, 8e-5]\n",
    "}\n",
    "gsearch6 = GridSearchCV(estimator = XGBClassifier(learning_rate =0.1, n_estimators=400, max_depth=4,\n",
    " min_child_weight=3, gamma=0.2, subsample=0.85, colsample_bytree=0.75,\n",
    " objective= 'binary:logistic', nthread=8, scale_pos_weight=1,seed=27), \n",
    " param_grid = param_test6, scoring='roc_auc',n_jobs=8,iid=False, cv=5)\n",
    "gsearch6.fit(train[features],train['JobSearchStatus'])\n",
    "gsearch6.best_params_, gsearch6.best_score_"
   ]
  },
  {
   "cell_type": "code",
   "execution_count": 114,
   "metadata": {},
   "outputs": [
    {
     "data": {
      "text/plain": [
       "({'reg_alpha': 0}, 0.9080932142438598)"
      ]
     },
     "execution_count": 114,
     "metadata": {},
     "output_type": "execute_result"
    }
   ],
   "source": [
    "param_test6 = {\n",
    " 'reg_alpha':[0, 1e-8, 1e-7, 1e-6]\n",
    "}\n",
    "gsearch6 = GridSearchCV(estimator = XGBClassifier(learning_rate =0.1, n_estimators=400, max_depth=4,\n",
    " min_child_weight=3, gamma=0.2, subsample=0.85, colsample_bytree=0.75,\n",
    " objective= 'binary:logistic', nthread=8, scale_pos_weight=1,seed=27), \n",
    " param_grid = param_test6, scoring='roc_auc',n_jobs=8,iid=False, cv=5)\n",
    "gsearch6.fit(train[features],train['JobSearchStatus'])\n",
    "gsearch6.best_params_, gsearch6.best_score_"
   ]
  },
  {
   "cell_type": "code",
   "execution_count": null,
   "metadata": {},
   "outputs": [],
   "source": [
    "# Thus, just ignore this parameter."
   ]
  },
  {
   "cell_type": "markdown",
   "metadata": {},
   "source": [
    "#### - Best XGBoost Classifier with optimal hyper-parameters"
   ]
  },
  {
   "cell_type": "code",
   "execution_count": 185,
   "metadata": {},
   "outputs": [],
   "source": [
    "# Set learning rate from 0.1 to 0.01\n",
    "# Set n_estimators from 400 to 4000 and below is the optimal model for XGBoost Classifier\n",
    "predictors = features\n",
    "xgb7 = XGBClassifier(\n",
    " learning_rate =0.01,\n",
    " n_estimators=4000,\n",
    " max_depth=4,\n",
    " min_child_weight=3,\n",
    " gamma=0.2,\n",
    " subsample=0.85,\n",
    " colsample_bytree=0.75,\n",
    " objective= 'binary:logistic',\n",
    " nthread=4,\n",
    " scale_pos_weight=1,\n",
    " seed=27)"
   ]
  },
  {
   "cell_type": "code",
   "execution_count": 186,
   "metadata": {},
   "outputs": [
    {
     "data": {
      "text/html": [
       "<div>\n",
       "<style scoped>\n",
       "    .dataframe tbody tr th:only-of-type {\n",
       "        vertical-align: middle;\n",
       "    }\n",
       "\n",
       "    .dataframe tbody tr th {\n",
       "        vertical-align: top;\n",
       "    }\n",
       "\n",
       "    .dataframe thead th {\n",
       "        text-align: right;\n",
       "    }\n",
       "</style>\n",
       "<table border=\"1\" class=\"dataframe\">\n",
       "  <thead>\n",
       "    <tr style=\"text-align: right;\">\n",
       "      <th></th>\n",
       "      <th>Model</th>\n",
       "      <th>Train Cross_Validation accuracy</th>\n",
       "      <th>Test Accuracy</th>\n",
       "      <th>Train Cross_Validation AUC</th>\n",
       "      <th>Test AUC</th>\n",
       "    </tr>\n",
       "  </thead>\n",
       "  <tbody>\n",
       "    <tr>\n",
       "      <th>0</th>\n",
       "      <td>Decision Tree</td>\n",
       "      <td>0.810942</td>\n",
       "      <td>0.815818</td>\n",
       "      <td>0.871548</td>\n",
       "      <td>0.869622</td>\n",
       "    </tr>\n",
       "    <tr>\n",
       "      <th>1</th>\n",
       "      <td>Random Forest</td>\n",
       "      <td>0.796737</td>\n",
       "      <td>0.806789</td>\n",
       "      <td>0.879895</td>\n",
       "      <td>0.881389</td>\n",
       "    </tr>\n",
       "    <tr>\n",
       "      <th>2</th>\n",
       "      <td>XGBoost</td>\n",
       "      <td>0.839412</td>\n",
       "      <td>0.835681</td>\n",
       "      <td>0.909012</td>\n",
       "      <td>0.904593</td>\n",
       "    </tr>\n",
       "  </tbody>\n",
       "</table>\n",
       "</div>"
      ],
      "text/plain": [
       "           Model  Train Cross_Validation accuracy  Test Accuracy  \\\n",
       "0  Decision Tree                         0.810942       0.815818   \n",
       "1  Random Forest                         0.796737       0.806789   \n",
       "2        XGBoost                         0.839412       0.835681   \n",
       "\n",
       "   Train Cross_Validation AUC  Test AUC  \n",
       "0                    0.871548  0.869622  \n",
       "1                    0.879895  0.881389  \n",
       "2                    0.909012  0.904593  "
      ]
     },
     "execution_count": 186,
     "metadata": {},
     "output_type": "execute_result"
    }
   ],
   "source": [
    "xgb7.fit(x_train,y_train)\n",
    "xgb_cross_accuracy=cross_val_score(xgb7, x_train,y_train, cv=5).mean()\n",
    "xgb_test_accuracy=xgb7.score(x_test,y_test)\n",
    "\n",
    "xgbtest_predprob = xgb7.predict_proba(x_test)[:,1]\n",
    "xgb_cross_AUC=cross_val_score(xgb7, x_train,y_train, cv=5,scoring='roc_auc').mean()\n",
    "xgb_test_AUC=metrics.roc_auc_score(y_test,xgbtest_predprob)\n",
    "\n",
    "r = evaluation.shape[0]\n",
    "evaluation.loc[r] = ['XGBoost',xgb_cross_accuracy,xgb_test_accuracy, xgb_cross_AUC, xgb_test_AUC ]\n",
    "evaluation"
   ]
  },
  {
   "cell_type": "markdown",
   "metadata": {},
   "source": [
    "#### Based on cross_validation AUC of train data, our optimal model is XGBoost Classifier... Let's see below how we can apply it to make money !"
   ]
  },
  {
   "cell_type": "markdown",
   "metadata": {},
   "source": [
    "# Business Application of model"
   ]
  },
  {
   "cell_type": "code",
   "execution_count": 59,
   "metadata": {},
   "outputs": [],
   "source": [
    "def get_classification(predictions,threshold):\n",
    "    classes=np.zeros_like(predictions)\n",
    "    for i in range(len(classes)):\n",
    "        if predictions[i]>threshold:\n",
    "            classes[i]=1\n",
    "    return classes"
   ]
  },
  {
   "cell_type": "code",
   "execution_count": 157,
   "metadata": {},
   "outputs": [
    {
     "data": {
      "text/plain": [
       "0.4181818835421924"
      ]
     },
     "execution_count": 157,
     "metadata": {},
     "output_type": "execute_result"
    }
   ],
   "source": [
    "threshold=0.5\n",
    "tn,fp,fn,tp=confusion_matrix(y_test,get_classification(xgbtest_predprob,0.5)).ravel()\n",
    "(tp/(tp+fp))-(tp+fn)/(tp+fp+fn+tn)\n",
    "# Difference of successfully finding people who wants to seek a job between using model and without model  "
   ]
  },
  {
   "cell_type": "code",
   "execution_count": 158,
   "metadata": {},
   "outputs": [],
   "source": [
    "def find_threshold(model,data,sample_size,tp_size):\n",
    "# Suppose data has all features and also dependent variable y(binary)\n",
    "    from sklearn.utils import resample\n",
    "    thresholds=list()\n",
    "    n_iterations = 100\n",
    "    \n",
    "    for i in range(n_iterations):\n",
    "        sample_data=pd.DataFrame.sample(data, sample_size)\n",
    "        tp_fp=sample_data[sample_data['JobSearchStatus']==1]\n",
    "        features = list(tp_fp.columns)\n",
    "        features.remove('JobSearchStatus')\n",
    "        tp_fp_x = tp_fp[features]\n",
    "        sample_predprob = model.predict_proba(tp_fp_x)[:,1]\n",
    "        thresholds.append(sorted(sample_predprob,reverse=True)[tp_size-1])\n",
    "    return np.mean(thresholds)\n",
    "\n",
    "def find_people(model,data,threshold):\n",
    "#suppose data contains all of x variables and also the index/name column\n",
    "    predprob= model.predict_proba(data)[:,1]\n",
    "    return len(predprob[predprob>threshold])"
   ]
  },
  {
   "cell_type": "code",
   "execution_count": 149,
   "metadata": {},
   "outputs": [],
   "source": [
    "index=list()\n",
    "with_model=list()\n",
    "without_model=list()\n",
    "true_0=y_test.value_counts()[0]\n",
    "true_1=y_test.value_counts()[1]\n",
    "for i in range(5,50):\n",
    "    threshold=find_threshold(xgb7,train,test.shape[0],i)\n",
    "    index.append(i)\n",
    "    with_model.append(find_people(xgb7,x_test,threshold))\n",
    "    without_model.append((true_0+true_1)/true_1*i)"
   ]
  },
  {
   "cell_type": "code",
   "execution_count": 202,
   "metadata": {},
   "outputs": [
    {
     "data": {
      "image/png": "[encoded data removed]",
      "text/plain": [
       "<Figure size 432x288 with 1 Axes>"
      ]
     },
     "metadata": {
      "needs_background": "light"
     },
     "output_type": "display_data"
    }
   ],
   "source": [
    "plt.plot(index,with_model,label=\"With model: # people to reach out\")\n",
    "plt.plot(index,without_model,label=\"Without model: # people to reach out\")\n",
    "plt.xlabel('Number of needed qualified candidates')\n",
    "plt.ylabel('Number of candidates needed to reach out')\n",
    "plt.legend(loc='upper left', borderaxespad=0.1)\n",
    "plt.show()"
   ]
  },
  {
   "cell_type": "code",
   "execution_count": null,
   "metadata": {},
   "outputs": [],
   "source": []
  }
 ],
 "metadata": {
  "kernelspec": {
   "display_name": "Python 3",
   "language": "python",
   "name": "python3"
  },
  "language_info": {
   "codemirror_mode": {
    "name": "ipython",
    "version": 3
   },
   "file_extension": ".py",
   "mimetype": "text/x-python",
   "name": "python",
   "nbconvert_exporter": "python",
   "pygments_lexer": "ipython3",
   "version": "3.7.1"
  }
 },
 "nbformat": 4,
 "nbformat_minor": 2
}
